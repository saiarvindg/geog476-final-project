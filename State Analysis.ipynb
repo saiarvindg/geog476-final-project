{
 "cells": [
  {
   "cell_type": "code",
   "execution_count": null,
   "metadata": {},
   "outputs": [],
   "source": [
    "import analysis"
   ]
  },
  {
   "cell_type": "code",
   "execution_count": null,
   "metadata": {
    "scrolled": false
   },
   "outputs": [],
   "source": [
    "#test cases\n",
    "# initializing/creating the object just reads in the files provided\n",
    "# census = r'./ri_census_tracts/ri_census_tracts.shp'\n",
    "census = r'../Tract_2010Census_DP1/Tract_2010Census_DP1.shp'\n",
    "# imp = r'./ri_imp6.tif'\n",
    "imp = r'../nlcd_2011_impervious_2011_edition_2014_10_10_gtif.tif'\n",
    "# nlcd = r'./ri_nlcd4.tif'\n",
    "nlcd = r'../nlcd_2011_landcover_2011_edition_2014_10_10_gtif.tif'\n",
    "a = analysis.Analysis(census, nlcd, imp)"
   ]
  },
  {
   "cell_type": "code",
   "execution_count": null,
   "metadata": {
    "scrolled": false
   },
   "outputs": [],
   "source": [
    "states = ['RI','NY','FL','WI','CA','NE']\n",
    "# states = ['NE','RI']\n",
    "for s in states:\n",
    "    a.setCensusTractDataFrameForState(s) # required\n",
    "    a.performPearsonAnalysis()\n",
    "    a.performMultLinRegAnalysis()"
   ]
  },
  {
   "cell_type": "code",
   "execution_count": null,
   "metadata": {
    "scrolled": false
   },
   "outputs": [],
   "source": [
    "a.stateCensusTractGDF"
   ]
  },
  {
   "cell_type": "code",
   "execution_count": null,
   "metadata": {},
   "outputs": [],
   "source": []
  }
 ],
 "metadata": {
  "kernelspec": {
   "display_name": "Python 3",
   "language": "python",
   "name": "python3"
  },
  "language_info": {
   "codemirror_mode": {
    "name": "ipython",
    "version": 3
   },
   "file_extension": ".py",
   "mimetype": "text/x-python",
   "name": "python",
   "nbconvert_exporter": "python",
   "pygments_lexer": "ipython3",
   "version": "3.7.0"
  }
 },
 "nbformat": 4,
 "nbformat_minor": 2
}
